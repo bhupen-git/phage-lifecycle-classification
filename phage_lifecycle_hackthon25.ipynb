{
 "cells": [
  {
   "cell_type": "markdown",
   "id": "a414cf73-7d3a-4abd-a2e8-13fa78e7a759",
   "metadata": {
    "slideshow": {
     "slide_type": "slide"
    }
   },
   "source": [
    "# Predicting phage lifecycle\n",
    "### Phagos hackathon 2025\n",
    "\n",
    "### Bhupen Dabholkar and Parth Pandit"
   ]
  },
  {
   "cell_type": "markdown",
   "id": "afa00dd3",
   "metadata": {
    "slideshow": {
     "slide_type": "slide"
    }
   },
   "source": [
    "## Bacteriophage lifecycle \n",
    "![Alt text](phagelifecycle.png)\n"
   ]
  },
  {
   "cell_type": "markdown",
   "id": "351f84f1-adf6-484e-ae2d-fdaed409dbf6",
   "metadata": {
    "slideshow": {
     "slide_type": "skip"
    }
   },
   "source": [
    "#### Using the power of LLMs and machine learning to predict if the lifecycle of a bacteriophage is lytic or lysogenic"
   ]
  },
  {
   "cell_type": "markdown",
   "id": "3d807493-f816-49b2-9184-6a4e101d1bb1",
   "metadata": {
    "slideshow": {
     "slide_type": "slide"
    }
   },
   "source": [
    "### Datasets"
   ]
  },
  {
   "cell_type": "markdown",
   "id": "45b1e6fc-31e5-41a9-a1aa-316ba6d97059",
   "metadata": {},
   "source": [
    "Link provided from the hackathon - https://s3.eu-west-1.amazonaws.com/phagos-rd-hackathon25-datasets/deephage/deephage_lifestyle.tar.gz\n",
    "\n",
    "The data has 4 folders with multi fasta files containing dna sequences of different bacteriophages. The folders are labelled as 'virulent' and 'temperate' which corresponds to 'lytic' and 'lysogenic' respectively."
   ]
  },
  {
   "cell_type": "markdown",
   "id": "81c74fa4-f241-4dfe-a776-ceef25c4839e",
   "metadata": {
    "slideshow": {
     "slide_type": "skip"
    }
   },
   "source": [
    "### Installing the libraries"
   ]
  },
  {
   "cell_type": "code",
   "execution_count": 78,
   "id": "d78667d4-469d-464c-8214-db9fa2f2e7ff",
   "metadata": {
    "slideshow": {
     "slide_type": "skip"
    }
   },
   "outputs": [
    {
     "name": "stdout",
     "output_type": "stream",
     "text": [
      "Requirement already satisfied: tqdm in /home/ec2-user/anaconda3/envs/pytorch_p310/lib/python3.10/site-packages (4.67.1)\n",
      "Requirement already satisfied: biopython in /home/ec2-user/anaconda3/envs/pytorch_p310/lib/python3.10/site-packages (1.85)\n",
      "Requirement already satisfied: numpy in /home/ec2-user/anaconda3/envs/pytorch_p310/lib/python3.10/site-packages (from biopython) (1.26.4)\n",
      "Requirement already satisfied: xgboost in /home/ec2-user/anaconda3/envs/pytorch_p310/lib/python3.10/site-packages (3.0.1)\n",
      "Requirement already satisfied: numpy in /home/ec2-user/anaconda3/envs/pytorch_p310/lib/python3.10/site-packages (from xgboost) (1.26.4)\n",
      "Requirement already satisfied: scipy in /home/ec2-user/anaconda3/envs/pytorch_p310/lib/python3.10/site-packages (from xgboost) (1.15.2)\n"
     ]
    }
   ],
   "source": [
    "! pip install -q fair-esm\n",
    "! pip install tqdm\n",
    "! pip install biopython\n",
    "! pip install xgboost"
   ]
  },
  {
   "cell_type": "markdown",
   "id": "3d14277c-6cc3-4f49-9001-47987780d603",
   "metadata": {
    "slideshow": {
     "slide_type": "slide"
    }
   },
   "source": [
    "### Extracting the amino acid sequences (proteins) from the phage genomes"
   ]
  },
  {
   "cell_type": "code",
   "execution_count": 12,
   "id": "52bde0a5-e95e-4b6e-806a-eb9fda33236e",
   "metadata": {
    "slideshow": {
     "slide_type": "skip"
    }
   },
   "outputs": [],
   "source": [
    "#Using the library biopython to read the fasta files\n",
    "from Bio import SeqIO\n",
    "\n",
    "records = list(SeqIO.parse(\"data/Dataset-1_temperate.fasta\", \"fasta\"))\n",
    "N_PHAGES_LYSOGENIC_1 = len(records)\n",
    "\n",
    "records = list(SeqIO.parse(\"data/Dataset-2_temperate.fasta\", \"fasta\"))\n",
    "N_PHAGES_LYSOGENIC_2 = len(records)\n",
    "\n",
    "records = list(SeqIO.parse(\"data/Dataset-1_virulent.fasta\", \"fasta\"))\n",
    "N_PHAGES_LYSIC_1 = len(records)\n",
    "\n",
    "records = list(SeqIO.parse(\"data/Dataset-2_virulent.fasta\", \"fasta\"))\n",
    "N_PHAGES_LYSIC_2 = len(records)"
   ]
  },
  {
   "cell_type": "code",
   "execution_count": 13,
   "id": "d63bd68a-269f-40e9-8297-5d8520b1fd8b",
   "metadata": {
    "slideshow": {
     "slide_type": "skip"
    }
   },
   "outputs": [
    {
     "name": "stdout",
     "output_type": "stream",
     "text": [
      "number of lysogenic phages in dataset 1 : 148\n",
      "number of lysogenic phages in dataset 2 : 429\n",
      "number of lysic phages in dataset 1 : 77\n",
      "number of lysic phages in dataset 2 : 1211\n"
     ]
    }
   ],
   "source": [
    "print('number of lysogenic phages in dataset 1 :', N_PHAGES_LYSOGENIC_1)\n",
    "print('number of lysogenic phages in dataset 2 :', N_PHAGES_LYSOGENIC_2)\n",
    "print('number of lysic phages in dataset 1 :',  N_PHAGES_LYSIC_1)\n",
    "print('number of lysic phages in dataset 2 :',  N_PHAGES_LYSIC_2)"
   ]
  },
  {
   "cell_type": "markdown",
   "id": "37774782-a97b-4ee1-9586-61c0d2747d1a",
   "metadata": {
    "slideshow": {
     "slide_type": "fragment"
    }
   },
   "source": [
    "##### To extract the proteins from the phage genomes we will use a library called Prodigal - https://github.com/hyattpd/Prodigal"
   ]
  },
  {
   "cell_type": "code",
   "execution_count": null,
   "id": "9122b959-4280-4421-82c7-02095173a4a9",
   "metadata": {
    "slideshow": {
     "slide_type": "fragment"
    }
   },
   "outputs": [],
   "source": [
    "# To install prodigal - \n",
    "!conda install -c bioconda -y prodigal"
   ]
  },
  {
   "cell_type": "markdown",
   "id": "646e9643-8c28-45d5-bc41-bee8d4f44c0c",
   "metadata": {
    "slideshow": {
     "slide_type": "fragment"
    }
   },
   "source": [
    "The following commands take some time. In particular for 'Dataset-2_virulent.fasta'"
   ]
  },
  {
   "cell_type": "code",
   "execution_count": 82,
   "id": "d6b8b43c-4169-46d9-b523-1c1062aa3925",
   "metadata": {
    "slideshow": {
     "slide_type": "fragment"
    }
   },
   "outputs": [],
   "source": [
    "# Extract the proteins - \n",
    "\n",
    "! prodigal -i data/Dataset-2_virulent.fasta -a proteins/Dataset-2_virulent_proteins.faa -p meta > /dev/null 2>&1"
   ]
  },
  {
   "cell_type": "code",
   "execution_count": 3,
   "id": "b01fc4cc-1dff-4731-9a04-30fb815aaf79",
   "metadata": {
    "slideshow": {
     "slide_type": "skip"
    }
   },
   "outputs": [],
   "source": [
    "! prodigal -i data/Dataset-1_virulent.fasta -a proteins/Dataset-1_virulent_proteins.faa -p meta > /dev/null 2>&1"
   ]
  },
  {
   "cell_type": "code",
   "execution_count": 4,
   "id": "ae5db95e-7adc-4d43-a4ac-372fd91144ab",
   "metadata": {
    "slideshow": {
     "slide_type": "skip"
    }
   },
   "outputs": [],
   "source": [
    "! prodigal -i data/Dataset-2_temperate.fasta -a proteins/Dataset-2_temperate_proteins.faa -p meta > /dev/null 2>&1"
   ]
  },
  {
   "cell_type": "code",
   "execution_count": 5,
   "id": "dd33cabf-4fc0-44f6-9e72-1e1fad1ab3d0",
   "metadata": {
    "slideshow": {
     "slide_type": "skip"
    }
   },
   "outputs": [],
   "source": [
    "! prodigal -i data/Dataset-1_temperate.fasta -a proteins/Dataset-1_temperate_proteins.faa -p meta > /dev/null 2>&1"
   ]
  },
  {
   "cell_type": "markdown",
   "id": "5599220a-e133-4857-a267-43b2b7c4b2a2",
   "metadata": {
    "slideshow": {
     "slide_type": "skip"
    }
   },
   "source": [
    "##### The generated .faa files contain '*' at the end of each amino acid sequence. We will remove the character from these files as the model we sill use next does not recognize it."
   ]
  },
  {
   "cell_type": "code",
   "execution_count": 6,
   "id": "4e91cce4-c1d3-44fa-af2c-6e6b373490bc",
   "metadata": {
    "slideshow": {
     "slide_type": "skip"
    }
   },
   "outputs": [],
   "source": [
    "! sed -i 's/[*]//g' proteins/Dataset-1_virulent_proteins.faa\n",
    "! sed -i 's/[*]//g' proteins/Dataset-2_virulent_proteins.faa\n",
    "! sed -i 's/[*]//g' proteins/Dataset-1_temperate_proteins.faa\n",
    "! sed -i 's/[*]//g' proteins/Dataset-2_temperate_proteins.faa"
   ]
  },
  {
   "cell_type": "markdown",
   "id": "d67d1efc-1300-4fab-9d57-6e499be6a919",
   "metadata": {
    "slideshow": {
     "slide_type": "slide"
    }
   },
   "source": [
    "### Embeddings"
   ]
  },
  {
   "cell_type": "markdown",
   "id": "6618b05c-b562-40fb-a035-d9fa4bfe467e",
   "metadata": {
    "slideshow": {
     "slide_type": "fragment"
    }
   },
   "source": [
    "#### To extract embeddings from the amino acid sequences we will use a pre-trained ESM model (https://github.com/facebookresearch/esm?tab=readme-ov-file#available). In particular ESM 2 (esm2_t6_8M_UR50D) which is relatively light weight with 8M parameters and an embedding dimension 320."
   ]
  },
  {
   "cell_type": "code",
   "execution_count": 7,
   "id": "4623248a-42ea-4808-88bc-555f87302f9f",
   "metadata": {
    "slideshow": {
     "slide_type": "skip"
    }
   },
   "outputs": [],
   "source": [
    "#Importing the required libraries\n",
    "import pathlib\n",
    "import torch\n",
    "from tqdm.notebook import tqdm\n",
    "\n",
    "from esm import FastaBatchedDataset, pretrained\n",
    "import os"
   ]
  },
  {
   "cell_type": "code",
   "execution_count": 8,
   "id": "3a447a62-507f-4d10-8e6b-0866e059e242",
   "metadata": {
    "slideshow": {
     "slide_type": "subslide"
    }
   },
   "outputs": [],
   "source": [
    "# This function is taken from - https://www.kaggle.com/code/viktorfairuschin/extracting-esm-2-embeddings-from-fasta-files/notebook\n",
    "#\n",
    "# It will store all the protein embeddings for each phage on disk. \n",
    "\n",
    "def extract_embeddings(model_name, fasta_file, n_phages, output_path, tokens_per_batch=4096, seq_length=1022,repr_layers=[6]):\n",
    "    '''\n",
    "    model_name : the name of the model. We use 'esm2_t6_8M_UR50D'\n",
    "    fasta_file : the path to .faa files\n",
    "    n_phages : total number of phages for each class\n",
    "    output_path : path to the directory for storing the embeddings\n",
    "    tokens_per_batch : number of tokens to process per batch\n",
    "    seq_length : the maximum amino acid sequence length the model can take\n",
    "    '''\n",
    "    model, alphabet = pretrained.load_model_and_alphabet(model_name)\n",
    "    model.eval()\n",
    "\n",
    "    if torch.cuda.is_available():\n",
    "        model = model.cuda()\n",
    "        \n",
    "    dataset = FastaBatchedDataset.from_file(fasta_file)\n",
    "    batches = dataset.get_batch_indices(tokens_per_batch, extra_toks_per_seq=1)\n",
    "\n",
    "    data_loader = torch.utils.data.DataLoader(\n",
    "        dataset, \n",
    "        collate_fn=alphabet.get_batch_converter(seq_length), \n",
    "        batch_sampler=batches\n",
    "    )\n",
    "\n",
    "    embeds_per_protein = {str(i) : [] for i in range(1, n_phages+1)}\n",
    "    \n",
    "    with torch.no_grad():\n",
    "        for batch_idx, (labels, strs, toks) in enumerate(tqdm(data_loader, desc=\"Encoding\", total=len(data_loader))):\n",
    "\n",
    "            #print(f'Processing batch {batch_idx + 1} of {len(batches)}')\n",
    "\n",
    "            if torch.cuda.is_available():\n",
    "                toks = toks.to(device=\"cuda\", non_blocking=True)\n",
    "\n",
    "            out = model(toks, repr_layers=repr_layers, return_contacts=False)\n",
    "\n",
    "            logits = out[\"logits\"].to(device=\"cpu\")\n",
    "            representations = {layer: t.to(device=\"cpu\") for layer, t in out[\"representations\"].items()}\n",
    "            \n",
    "            for i, label in enumerate(labels):\n",
    "                entry_id = label.split('ID=')[1].split(';')[0].split('_')[0]\n",
    "\n",
    "                #Truncate long sequences\n",
    "                truncate_len = min(seq_length, len(strs[i]))\n",
    "\n",
    "                result = {\"entry_id\": entry_id}\n",
    "                result[\"mean_representations\"] = [\n",
    "                        t[i, 1 : truncate_len + 1].mean(0).clone()\n",
    "                        for layer, t in representations.items()]\n",
    "\n",
    "                embeds_per_protein[entry_id].append(result['mean_representations'][0])\n",
    "\n",
    "    os.makedirs(output_path, exist_ok=True)\n",
    "    for phage_id in embeds_per_protein:\n",
    "        torch.save(embeds_per_protein[phage_id], output_path + phage_id + '.pt')\n"
   ]
  },
  {
   "cell_type": "code",
   "execution_count": 14,
   "id": "3836a990-9c90-4f4e-bc98-923938dcce31",
   "metadata": {},
   "outputs": [
    {
     "data": {
      "application/vnd.jupyter.widget-view+json": {
       "model_id": "cfaea9a91d534d0ea8befeeeca0d4d11",
       "version_major": 2,
       "version_minor": 0
      },
      "text/plain": [
       "Encoding:   0%|          | 0/7838 [00:00<?, ?it/s]"
      ]
     },
     "metadata": {},
     "output_type": "display_data"
    }
   ],
   "source": [
    "model_name = 'esm2_t6_8M_UR50D'\n",
    "fasta_file = pathlib.Path('proteins/Dataset-2_virulent_proteins.faa')\n",
    "\n",
    "extract_embeddings(model_name, fasta_file, N_PHAGES_LYSIC_2, 'Embeddings/Dataset-2_virulent/')"
   ]
  },
  {
   "cell_type": "code",
   "execution_count": null,
   "id": "6ea95b3e-0094-4678-b39d-fad74767dd28",
   "metadata": {
    "slideshow": {
     "slide_type": "skip"
    }
   },
   "outputs": [
    {
     "data": {
      "application/vnd.jupyter.widget-view+json": {
       "model_id": "3b637930d10e4ede94fe6c7f853eacff",
       "version_major": 2,
       "version_minor": 0
      },
      "text/plain": [
       "Encoding:   0%|          | 0/463 [00:00<?, ?it/s]"
      ]
     },
     "metadata": {},
     "output_type": "display_data"
    }
   ],
   "source": [
    "fasta_file = pathlib.Path('proteins/Dataset-1_virulent_proteins.faa')\n",
    "\n",
    "extract_embeddings(model_name, fasta_file, N_PHAGES_LYSIC_1, 'Embeddings/Dataset-1_virulent/')"
   ]
  },
  {
   "cell_type": "code",
   "execution_count": 16,
   "id": "5f9bdbac-a081-447f-ae1a-7e241b629312",
   "metadata": {
    "slideshow": {
     "slide_type": "skip"
    }
   },
   "outputs": [
    {
     "data": {
      "application/vnd.jupyter.widget-view+json": {
       "model_id": "06eb6299fa1343c59975286779913af3",
       "version_major": 2,
       "version_minor": 0
      },
      "text/plain": [
       "Encoding:   0%|          | 0/519 [00:00<?, ?it/s]"
      ]
     },
     "metadata": {},
     "output_type": "display_data"
    }
   ],
   "source": [
    "fasta_file = pathlib.Path('proteins/Dataset-1_temperate_proteins.faa')\n",
    "\n",
    "extract_embeddings(model_name, fasta_file, N_PHAGES_LYSOGENIC_1, 'Embeddings/Dataset-1_temperate/')"
   ]
  },
  {
   "cell_type": "code",
   "execution_count": 17,
   "id": "9e03bd3e-5d6d-46e0-b02b-68141aaf7300",
   "metadata": {
    "slideshow": {
     "slide_type": "skip"
    }
   },
   "outputs": [
    {
     "data": {
      "application/vnd.jupyter.widget-view+json": {
       "model_id": "c40a7e31ced34f49820efdf12a6c7cd4",
       "version_major": 2,
       "version_minor": 0
      },
      "text/plain": [
       "Encoding:   0%|          | 0/1685 [00:00<?, ?it/s]"
      ]
     },
     "metadata": {},
     "output_type": "display_data"
    }
   ],
   "source": [
    "fasta_file = pathlib.Path('proteins/Dataset-2_temperate_proteins.faa')\n",
    "\n",
    "extract_embeddings(model_name, fasta_file, N_PHAGES_LYSOGENIC_2, 'Embeddings/Dataset-2_temperate/')"
   ]
  },
  {
   "cell_type": "markdown",
   "id": "60d99b03-8ebb-4e99-8af6-a8812f0139ba",
   "metadata": {
    "slideshow": {
     "slide_type": "slide"
    }
   },
   "source": [
    "### Creating a data frame"
   ]
  },
  {
   "cell_type": "markdown",
   "id": "ba7c13dc-17f6-4194-a70f-fff73dca8849",
   "metadata": {},
   "source": [
    "##### Now that we have stored the embeddings on disk we could create a nice data frame to be used for the classification task"
   ]
  },
  {
   "cell_type": "code",
   "execution_count": 20,
   "id": "b267821a-b4e2-4d89-a8d7-a673dfd7b8b8",
   "metadata": {
    "slideshow": {
     "slide_type": "skip"
    }
   },
   "outputs": [],
   "source": [
    "import pandas as pd"
   ]
  },
  {
   "cell_type": "code",
   "execution_count": 18,
   "id": "a9afb093-f0fc-4fb9-920e-490beaa7a53d",
   "metadata": {
    "slideshow": {
     "slide_type": "skip"
    }
   },
   "outputs": [],
   "source": [
    "def create_df(label, dir_name):\n",
    "    '''\n",
    "    Function return a pandas data frame with two columns - 'Embeddings' and 'labels'\n",
    "    '''\n",
    "    \n",
    "    path_to_dir = 'Embeddings/' + dir_name\n",
    "    embeddings = []\n",
    "    \n",
    "    for fname in os.listdir(path_to_dir):\n",
    "\n",
    "        path_to_file = path_to_dir + '/' + fname\n",
    "        all_tensors = torch.load(path_to_file)\n",
    "\n",
    "        # Since each phage has multiple proteins, to extract a single embedding per phage we\n",
    "        # take the mean embedding of all the proteins.\n",
    "        embeddings.append(torch.stack(all_tensors).mean(0).squeeze().numpy())\n",
    "\n",
    "    return pd.DataFrame({'Embeddings' : embeddings, 'labels' : label})\n",
    "        \n",
    "    "
   ]
  },
  {
   "cell_type": "code",
   "execution_count": 25,
   "id": "cde2f620-1b58-4fc9-b858-074adf9dcbc4",
   "metadata": {
    "slideshow": {
     "slide_type": "fragment"
    }
   },
   "outputs": [
    {
     "data": {
      "text/html": [
       "<div>\n",
       "<style scoped>\n",
       "    .dataframe tbody tr th:only-of-type {\n",
       "        vertical-align: middle;\n",
       "    }\n",
       "\n",
       "    .dataframe tbody tr th {\n",
       "        vertical-align: top;\n",
       "    }\n",
       "\n",
       "    .dataframe thead th {\n",
       "        text-align: right;\n",
       "    }\n",
       "</style>\n",
       "<table border=\"1\" class=\"dataframe\">\n",
       "  <thead>\n",
       "    <tr style=\"text-align: right;\">\n",
       "      <th></th>\n",
       "      <th>Embeddings</th>\n",
       "      <th>labels</th>\n",
       "    </tr>\n",
       "  </thead>\n",
       "  <tbody>\n",
       "    <tr>\n",
       "      <th>0</th>\n",
       "      <td>[-0.05853875, -0.03559405, 0.1571865, 0.197030...</td>\n",
       "      <td>lysic</td>\n",
       "    </tr>\n",
       "    <tr>\n",
       "      <th>1</th>\n",
       "      <td>[-0.05206919, -0.062334787, 0.14913075, 0.1167...</td>\n",
       "      <td>lysic</td>\n",
       "    </tr>\n",
       "    <tr>\n",
       "      <th>2</th>\n",
       "      <td>[-0.073517986, -0.026214214, 0.13497724, 0.103...</td>\n",
       "      <td>lysic</td>\n",
       "    </tr>\n",
       "    <tr>\n",
       "      <th>3</th>\n",
       "      <td>[-0.06637349, -0.041989934, 0.15498395, 0.1442...</td>\n",
       "      <td>lysic</td>\n",
       "    </tr>\n",
       "    <tr>\n",
       "      <th>4</th>\n",
       "      <td>[-0.047471665, -0.05996416, 0.15609127, 0.1459...</td>\n",
       "      <td>lysic</td>\n",
       "    </tr>\n",
       "    <tr>\n",
       "      <th>...</th>\n",
       "      <td>...</td>\n",
       "      <td>...</td>\n",
       "    </tr>\n",
       "    <tr>\n",
       "      <th>1860</th>\n",
       "      <td>[-0.07939046, -0.07276801, 0.159734, 0.1705044...</td>\n",
       "      <td>lysogenic</td>\n",
       "    </tr>\n",
       "    <tr>\n",
       "      <th>1861</th>\n",
       "      <td>[-0.046599425, -0.07957475, 0.13376476, 0.0367...</td>\n",
       "      <td>lysogenic</td>\n",
       "    </tr>\n",
       "    <tr>\n",
       "      <th>1862</th>\n",
       "      <td>[-0.043071344, -0.047865696, 0.15949711, 0.108...</td>\n",
       "      <td>lysogenic</td>\n",
       "    </tr>\n",
       "    <tr>\n",
       "      <th>1863</th>\n",
       "      <td>[-0.065825194, -0.08668357, 0.15463431, 0.2044...</td>\n",
       "      <td>lysogenic</td>\n",
       "    </tr>\n",
       "    <tr>\n",
       "      <th>1864</th>\n",
       "      <td>[-0.028034853, -0.049605295, 0.18923882, 0.202...</td>\n",
       "      <td>lysogenic</td>\n",
       "    </tr>\n",
       "  </tbody>\n",
       "</table>\n",
       "<p>1865 rows × 2 columns</p>\n",
       "</div>"
      ],
      "text/plain": [
       "                                             Embeddings     labels\n",
       "0     [-0.05853875, -0.03559405, 0.1571865, 0.197030...      lysic\n",
       "1     [-0.05206919, -0.062334787, 0.14913075, 0.1167...      lysic\n",
       "2     [-0.073517986, -0.026214214, 0.13497724, 0.103...      lysic\n",
       "3     [-0.06637349, -0.041989934, 0.15498395, 0.1442...      lysic\n",
       "4     [-0.047471665, -0.05996416, 0.15609127, 0.1459...      lysic\n",
       "...                                                 ...        ...\n",
       "1860  [-0.07939046, -0.07276801, 0.159734, 0.1705044...  lysogenic\n",
       "1861  [-0.046599425, -0.07957475, 0.13376476, 0.0367...  lysogenic\n",
       "1862  [-0.043071344, -0.047865696, 0.15949711, 0.108...  lysogenic\n",
       "1863  [-0.065825194, -0.08668357, 0.15463431, 0.2044...  lysogenic\n",
       "1864  [-0.028034853, -0.049605295, 0.18923882, 0.202...  lysogenic\n",
       "\n",
       "[1865 rows x 2 columns]"
      ]
     },
     "execution_count": 25,
     "metadata": {},
     "output_type": "execute_result"
    }
   ],
   "source": [
    "df = pd.concat([create_df('lysic', 'Dataset-1_virulent'), create_df('lysic', 'Dataset-2_virulent'), create_df('lysogenic', 'Dataset-1_temperate'), create_df('lysogenic', 'Dataset-2_temperate')])\n",
    "df = df.reset_index(drop=True)\n",
    "df"
   ]
  },
  {
   "cell_type": "markdown",
   "id": "7025e4e8-b0e6-41bd-8405-405cad7623a1",
   "metadata": {
    "slideshow": {
     "slide_type": "slide"
    }
   },
   "source": [
    "## Data imbalance !"
   ]
  },
  {
   "cell_type": "code",
   "execution_count": 26,
   "id": "acb87d1a-227a-461b-b0ff-1b8a80f6ef7b",
   "metadata": {},
   "outputs": [
    {
     "name": "stdout",
     "output_type": "stream",
     "text": [
      "fraction of Lysic phages : 0.6906166219839142\n",
      "fraction of Lysogenic phages : 0.3093833780160858\n"
     ]
    }
   ],
   "source": [
    "print('fraction of Lysic phages :' , (df['labels'] == 'lysic').sum() / df.shape[0])\n",
    "print('fraction of Lysogenic phages :' , (df['labels'] == 'lysogenic').sum() / df.shape[0])"
   ]
  },
  {
   "cell_type": "markdown",
   "id": "29d6b191-9860-47d9-b583-43f85368f1c8",
   "metadata": {
    "slideshow": {
     "slide_type": "slide"
    }
   },
   "source": [
    "## Classification with XGBoost"
   ]
  },
  {
   "cell_type": "code",
   "execution_count": 39,
   "id": "fae93c6f-1c16-49b9-afd2-ac0b2c0f71ae",
   "metadata": {
    "slideshow": {
     "slide_type": "skip"
    }
   },
   "outputs": [
    {
     "name": "stdout",
     "output_type": "stream",
     "text": [
      "Collecting xgboost\n",
      "  Downloading xgboost-3.0.1-py3-none-manylinux2014_x86_64.whl.metadata (2.0 kB)\n",
      "Requirement already satisfied: numpy in /home/ec2-user/anaconda3/envs/pytorch_p310/lib/python3.10/site-packages (from xgboost) (1.26.4)\n",
      "Requirement already satisfied: scipy in /home/ec2-user/anaconda3/envs/pytorch_p310/lib/python3.10/site-packages (from xgboost) (1.15.2)\n",
      "Downloading xgboost-3.0.1-py3-none-manylinux2014_x86_64.whl (4.9 MB)\n",
      "\u001b[2K   \u001b[90m━━━━━━━━━━━━━━━━━━━━━━━━━━━━━━━━━━━━━━━━\u001b[0m \u001b[32m4.9/4.9 MB\u001b[0m \u001b[31m75.3 MB/s\u001b[0m eta \u001b[36m0:00:00\u001b[0m\n",
      "\u001b[?25hInstalling collected packages: xgboost\n",
      "Successfully installed xgboost-3.0.1\n"
     ]
    }
   ],
   "source": [
    "! pip install xgboost"
   ]
  },
  {
   "cell_type": "code",
   "execution_count": 27,
   "id": "7aecc8ba-da66-4cd9-a498-4c5702150e1f",
   "metadata": {
    "slideshow": {
     "slide_type": "skip"
    }
   },
   "outputs": [
    {
     "name": "stderr",
     "output_type": "stream",
     "text": [
      "/home/ec2-user/anaconda3/envs/pytorch_p310/lib/python3.10/site-packages/xgboost/core.py:377: FutureWarning: Your system has an old version of glibc (< 2.28). We will stop supporting Linux distros with glibc older than 2.28 after **May 31, 2025**. Please upgrade to a recent Linux distro (with glibc >= 2.28) to use future versions of XGBoost.\n",
      "Note: You have installed the 'manylinux2014' variant of XGBoost. Certain features such as GPU algorithms or federated learning are not available. To use these features, please upgrade to a recent Linux distro with glibc 2.28+, and install the 'manylinux_2_28' variant.\n",
      "  warnings.warn(\n"
     ]
    }
   ],
   "source": [
    "from xgboost import XGBClassifier\n",
    "from sklearn.model_selection import cross_val_predict\n",
    "from sklearn.metrics import confusion_matrix, classification_report\n",
    "import numpy as np"
   ]
  },
  {
   "cell_type": "code",
   "execution_count": 28,
   "id": "375fe71e-e06d-41fe-9ed2-f9c9cb082383",
   "metadata": {
    "slideshow": {
     "slide_type": "skip"
    }
   },
   "outputs": [],
   "source": [
    "X = np.vstack(df['Embeddings'].values)  # shape: (n_samples, embedding_dim)\n",
    "y = df['labels'].values"
   ]
  },
  {
   "cell_type": "code",
   "execution_count": 29,
   "id": "75164340-8490-4117-9b24-f5cdce66c59e",
   "metadata": {
    "slideshow": {
     "slide_type": "skip"
    }
   },
   "outputs": [],
   "source": [
    "from sklearn.preprocessing import LabelEncoder\n",
    "\n",
    "le = LabelEncoder()\n",
    "y_encoded = le.fit_transform(y)\n",
    "\n",
    "# xgboost can take into account data imbalance\n",
    "scale = (y_encoded == 0).sum() / (y_encoded == 1).sum()"
   ]
  },
  {
   "cell_type": "code",
   "execution_count": 30,
   "id": "024c2a2d-c5fc-47cc-875d-76b2841c5700",
   "metadata": {},
   "outputs": [],
   "source": [
    "model = XGBClassifier(\n",
    "    objective='binary:logistic',\n",
    "    eval_metric='logloss',\n",
    "    scale_pos_weight=scale\n",
    ")\n",
    "\n",
    "y_pred_encoded = cross_val_predict(model, X, y_encoded, cv=5)"
   ]
  },
  {
   "cell_type": "code",
   "execution_count": 31,
   "id": "0ea913d7-0b4e-47e4-b26d-01fadb25e330",
   "metadata": {
    "slideshow": {
     "slide_type": "skip"
    }
   },
   "outputs": [],
   "source": [
    "y_true_str = le.inverse_transform(y_encoded)\n",
    "y_pred_str = le.inverse_transform(y_pred_encoded)"
   ]
  },
  {
   "cell_type": "code",
   "execution_count": 32,
   "id": "1ada69f2-d97f-423d-aa0b-fd27a8e8ad03",
   "metadata": {
    "slideshow": {
     "slide_type": "subslide"
    }
   },
   "outputs": [
    {
     "name": "stdout",
     "output_type": "stream",
     "text": [
      "Confusion Matrix:\n",
      " [[1204   84]\n",
      " [  89  488]]\n",
      "\n",
      "Classification Report:\n",
      "               precision    recall  f1-score   support\n",
      "\n",
      "       lysic       0.93      0.93      0.93      1288\n",
      "   lysogenic       0.85      0.85      0.85       577\n",
      "\n",
      "    accuracy                           0.91      1865\n",
      "   macro avg       0.89      0.89      0.89      1865\n",
      "weighted avg       0.91      0.91      0.91      1865\n",
      "\n"
     ]
    }
   ],
   "source": [
    "# Confusion matrix\n",
    "cm = confusion_matrix(y_true_str, y_pred_str, labels = le.classes_)\n",
    "print(\"Confusion Matrix:\\n\", cm)\n",
    "\n",
    "# Detailed classification report (precision, recall, f1)\n",
    "print(\"\\nClassification Report:\\n\", classification_report(y_true_str, y_pred_str, target_names=le.classes_))"
   ]
  },
  {
   "cell_type": "code",
   "execution_count": 33,
   "id": "e391890e-70cf-4908-931b-ba78eaaba230",
   "metadata": {
    "slideshow": {
     "slide_type": "subslide"
    }
   },
   "outputs": [
    {
     "data": {
      "image/png": "[encoded data removed]",
      "text/plain": [
       "<Figure size 640x480 with 2 Axes>"
      ]
     },
     "metadata": {},
     "output_type": "display_data"
    }
   ],
   "source": [
    "import seaborn as sns\n",
    "import matplotlib.pyplot as plt\n",
    "\n",
    "cm = confusion_matrix(y_true_str, y_pred_str, labels=le.classes_)\n",
    "sns.heatmap(cm, annot=True, fmt='d', cmap='Blues', xticklabels=le.classes_, yticklabels=le.classes_)\n",
    "plt.xlabel(\"Predicted\")\n",
    "plt.ylabel(\"True\")\n",
    "plt.title(\"Confusion Matrix\")\n",
    "plt.show()"
   ]
  },
  {
   "cell_type": "markdown",
   "id": "c4a6e780",
   "metadata": {
    "slideshow": {
     "slide_type": "slide"
    }
   },
   "source": [
    "# Thank you"
   ]
  },
  {
   "cell_type": "markdown",
   "id": "0553395b",
   "metadata": {},
   "source": []
  }
 ],
 "metadata": {
  "kernelspec": {
   "display_name": "conda_pytorch_p310",
   "language": "python",
   "name": "conda_pytorch_p310"
  },
  "language_info": {
   "codemirror_mode": {
    "name": "ipython",
    "version": 3
   },
   "file_extension": ".py",
   "mimetype": "text/x-python",
   "name": "python",
   "nbconvert_exporter": "python",
   "pygments_lexer": "ipython3",
   "version": "3.10.14"
  }
 },
 "nbformat": 4,
 "nbformat_minor": 5
}
